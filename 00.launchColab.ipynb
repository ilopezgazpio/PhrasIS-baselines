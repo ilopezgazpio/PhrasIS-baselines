{
 "nbformat": 4,
 "nbformat_minor": 0,
 "metadata": {
  "colab": {
   "name": "Untitled0.ipynb",
   "provenance": [],
   "toc_visible": true
  },
  "kernelspec": {
   "name": "python3",
   "language": "python",
   "display_name": "Python 3"
  }
 },
 "cells": [
  {
   "cell_type": "markdown",
   "metadata": {
    "id": "nFIy9XRLUeff"
   },
   "source": [
    "**Clone repository and setup **"
   ]
  },
  {
   "cell_type": "code",
   "metadata": {
    "colab": {
     "base_uri": "https://localhost:8080/"
    },
    "id": "ipX7u4Aiu451",
    "outputId": "9fa3a686-1fb7-4161-e871-33974b5c1ed9"
   },
   "source": [
    "!pwd"
   ],
   "execution_count": 1,
   "outputs": [
    {
     "name": "stdout",
     "output_type": "stream",
     "text": [
      "/home/inigolopezgazpio/Drive_lgazpio/00_Universidad/Deusto/02.Trabajos Fin de Grado - TFG/00.Direccion/21-22/PhrasIS-baselines\r\n"
     ]
    }
   ]
  },
  {
   "cell_type": "code",
   "metadata": {
    "colab": {
     "base_uri": "https://localhost:8080/"
    },
    "id": "WwSyUarqvNHv",
    "outputId": "9a5b03b5-55a7-4ad4-c187-47d2fff331ed"
   },
   "source": [
    "!cd /content"
   ],
   "execution_count": 3,
   "outputs": [
    {
     "name": "stdout",
     "output_type": "stream",
     "text": [
      "/bin/bash: line 0: cd: /content: No such file or directory\r\n"
     ]
    }
   ]
  },
  {
   "cell_type": "code",
   "metadata": {
    "id": "s0C0yM2tY7Ox"
   },
   "source": [
    "!rm -r PhrasIS-baselines"
   ],
   "execution_count": 4,
   "outputs": [
    {
     "name": "stdout",
     "output_type": "stream",
     "text": [
      "rm: cannot remove 'PhrasIS-baselines': No such file or directory\r\n"
     ]
    }
   ]
  },
  {
   "cell_type": "code",
   "metadata": {
    "colab": {
     "base_uri": "https://localhost:8080/"
    },
    "id": "wlVa3Dk0TZwp",
    "outputId": "6e2dacd3-6ee3-4a0e-a1a7-aec202cc1c7b"
   },
   "source": [
    "!pip install numpy scipy\n",
    "!git clone https://github.com/lgazpio/PhrasIS-baselines"
   ],
   "execution_count": 5,
   "outputs": [
    {
     "name": "stdout",
     "output_type": "stream",
     "text": [
      "Requirement already satisfied: numpy in /home/inigolopezgazpio/anaconda3/lib/python3.7/site-packages (1.19.2)\r\n",
      "Requirement already satisfied: scipy in /home/inigolopezgazpio/anaconda3/lib/python3.7/site-packages (1.6.2)\r\n",
      "Cloning into 'LightHouses_AI_Context'...\r\n",
      "remote: Enumerating objects: 132, done.\u001B[K\r\n",
      "remote: Counting objects: 100% (132/132), done.\u001B[K\r\n",
      "remote: Compressing objects: 100% (79/79), done.\u001B[K\r\n",
      "remote: Total 132 (delta 72), reused 104 (delta 44), pack-reused 0\u001B[K\r\n",
      "Receiving objects: 100% (132/132), 60.19 KiB | 1.11 MiB/s, done.\r\n",
      "Resolving deltas: 100% (72/72), done.\r\n"
     ]
    }
   ]
  },
  {
   "cell_type": "code",
   "metadata": {
    "colab": {
     "base_uri": "https://localhost:8080/"
    },
    "id": "tg3TY0oUUw-k",
    "outputId": "c43536e0-6c6f-4544-d3b7-ed7d15c7dc25"
   },
   "source": [
    "!cd PhrasIS-baselines"
   ],
   "execution_count": 52,
   "outputs": [
    {
     "output_type": "stream",
     "text": [
      "/content/LightHouses_AI_Context\n"
     ],
     "name": "stdout"
    }
   ]
  },
  {
   "cell_type": "code",
   "metadata": {
    "colab": {
     "base_uri": "https://localhost:8080/"
    },
    "id": "DZRgRd_3gS62",
    "outputId": "b667a3a9-e6c3-46ec-ee8e-514a842fa56e"
   },
   "source": [
    "!ls"
   ],
   "execution_count": 53,
   "outputs": [
    {
     "output_type": "stream",
     "text": [
      "aicontest_spec.txt  engine  examples  maps  Readme.md\n"
     ],
     "name": "stdout"
    }
   ]
  },
  {
   "cell_type": "code",
   "metadata": {
    "id": "qVqKDeR9htpU"
   },
   "source": [
    "import numpy as np\n",
    "import scipy as sp\n"
   ],
   "execution_count": 6,
   "outputs": []
  },
  {
   "cell_type": "code",
   "metadata": {
    "colab": {
     "base_uri": "https://localhost:8080/"
    },
    "id": "RGGFHJZ8zrrk",
    "outputId": "13868ad4-c9c6-4883-bba5-9e65ad043fd1",
    "pycharm": {
     "name": "#%%\n"
    }
   },
   "source": [
    "%pylab inline"
   ],
   "execution_count": 7,
   "outputs": [
    {
     "name": "stdout",
     "output_type": "stream",
     "text": [
      "Populating the interactive namespace from numpy and matplotlib\n"
     ]
    }
   ]
  }
 ]
}